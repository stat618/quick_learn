{
 "cells": [
  {
   "cell_type": "markdown",
   "metadata": {},
   "source": [
    "## 什么是Plotly\n",
    "\n",
    "Plotly是新一代的Python数据可视化开发库，它是在plotly.js的基础上建立的，提供了完善的交互能力和灵活的绘制选项。\n",
    "\n",
    "与早期的Matplotlib和Seaborn等库相比，Plotly将数据可视化提升到一个新的层次。Plotly内置完整的交互能力及编辑工具，支持在线和离线模式，提供稳定的API以便与现有应用集成，既可以在web浏览器中展示数据图表，也可以存入本地拷贝。\n",
    "\n",
    "目前plotly绘图主要是有两种方法：\n",
    "- plotly_express：plotly的高级封装\n",
    "- plotly.graph_objects：底层方法\n",
    "> 本项目的图形结果均运行在jupyter notebook中\n",
    "\n",
    "下面我们利用Plotly内置的数据集来看看如何绘图，主要基于plotly_express\n"
   ]
  },
  {
   "cell_type": "markdown",
   "metadata": {},
   "source": [
    "## 导入库\n",
    "\n",
    "在导入plotly的两种接口的时候，有两种约定方式"
   ]
  },
  {
   "cell_type": "code",
   "execution_count": 2,
   "metadata": {},
   "outputs": [
    {
     "name": "stdout",
     "output_type": "stream",
     "text": [
      "^C\n"
     ]
    },
    {
     "ename": "ModuleNotFoundError",
     "evalue": "No module named 'plotly_express'",
     "output_type": "error",
     "traceback": [
      "\u001b[1;31m---------------------------------------------------------------------------\u001b[0m",
      "\u001b[1;31mModuleNotFoundError\u001b[0m                       Traceback (most recent call last)",
      "Cell \u001b[1;32mIn[2], line 6\u001b[0m\n\u001b[0;32m      3\u001b[0m \u001b[38;5;28;01mimport\u001b[39;00m \u001b[38;5;21;01mnumpy\u001b[39;00m \u001b[38;5;28;01mas\u001b[39;00m \u001b[38;5;21;01mnp\u001b[39;00m\n\u001b[0;32m      5\u001b[0m \u001b[38;5;66;03m# 两种绘图接口的约定导入方式\u001b[39;00m\n\u001b[1;32m----> 6\u001b[0m \u001b[38;5;28;01mimport\u001b[39;00m \u001b[38;5;21;01mplotly_express\u001b[39;00m \u001b[38;5;28;01mas\u001b[39;00m \u001b[38;5;21;01mpx\u001b[39;00m  \u001b[38;5;66;03m# 或 import plotly.express as px\u001b[39;00m\n\u001b[0;32m      7\u001b[0m \u001b[38;5;28;01mimport\u001b[39;00m \u001b[38;5;21;01mplotly\u001b[39;00m\u001b[38;5;21;01m.\u001b[39;00m\u001b[38;5;21;01mgraph_objects\u001b[39;00m \u001b[38;5;28;01mas\u001b[39;00m \u001b[38;5;21;01mgo\u001b[39;00m  \n",
      "\u001b[1;31mModuleNotFoundError\u001b[0m: No module named 'plotly_express'"
     ]
    }
   ],
   "source": [
    "!pip install plotly_express\n",
    "import pandas as pd\n",
    "import numpy as np\n",
    "\n",
    "# 两种绘图接口的约定导入方式\n",
    "import plotly_express as px  # 或 import plotly.express as px\n",
    "import plotly.graph_objects as go  "
   ]
  },
  {
   "cell_type": "markdown",
   "metadata": {},
   "source": [
    "## 数据集\n",
    "\n",
    "plotly有多种内置的数据集供我们使用"
   ]
  },
  {
   "cell_type": "code",
   "execution_count": null,
   "metadata": {},
   "outputs": [],
   "source": [
    "gapminder = px.data.gapminder() \n",
    "gapminder.head()"
   ]
  },
  {
   "cell_type": "code",
   "execution_count": null,
   "metadata": {},
   "outputs": [],
   "source": [
    "gapminder[\"country\"].value_counts()"
   ]
  },
  {
   "cell_type": "code",
   "execution_count": null,
   "metadata": {},
   "outputs": [],
   "source": [
    "tips = px.data.tips()  \n",
    "tips.head()"
   ]
  },
  {
   "cell_type": "code",
   "execution_count": null,
   "metadata": {},
   "outputs": [],
   "source": [
    "iris = px.data.iris()  # 著名的鸢尾花数据集\n",
    "iris.head()"
   ]
  },
  {
   "cell_type": "code",
   "execution_count": null,
   "metadata": {},
   "outputs": [],
   "source": [
    "iris.columns"
   ]
  },
  {
   "cell_type": "code",
   "execution_count": null,
   "metadata": {},
   "outputs": [],
   "source": [
    "stock = px.data.stocks()  # 一份股票数据集\n",
    "stock.head()"
   ]
  },
  {
   "cell_type": "code",
   "execution_count": null,
   "metadata": {},
   "outputs": [],
   "source": [
    "print(stock.columns)"
   ]
  },
  {
   "cell_type": "markdown",
   "metadata": {},
   "source": [
    "## 绘图\n",
    "\n",
    "下面几种常见的图形，快速了解Plotly的绘图"
   ]
  },
  {
   "cell_type": "markdown",
   "metadata": {},
   "source": [
    "### 柱状图"
   ]
  },
  {
   "cell_type": "code",
   "execution_count": null,
   "metadata": {},
   "outputs": [],
   "source": [
    "# 指定选取国家：Switzerland\n",
    "\n",
    "Switzerland  = gapminder[gapminder[\"country\"] == \"Switzerland\"]\n",
    "Switzerland "
   ]
  },
  {
   "cell_type": "code",
   "execution_count": null,
   "metadata": {},
   "outputs": [],
   "source": [
    "fig = px.bar(Switzerland,x=\"year\",y=\"pop\")\n",
    "\n",
    "fig.show()"
   ]
  },
  {
   "cell_type": "code",
   "execution_count": null,
   "metadata": {
    "scrolled": false
   },
   "outputs": [],
   "source": [
    "fig = go.Figure(\n",
    "    data = (\n",
    "        go.Bar(x=Switzerland[\"year\"].tolist(),  # x轴数据\n",
    "               y=Switzerland[\"pop\"].tolist(),  # y轴数据\n",
    "              )\n",
    "    )\n",
    ")\n",
    "\n",
    "fig.show()"
   ]
  },
  {
   "cell_type": "code",
   "execution_count": null,
   "metadata": {},
   "outputs": [],
   "source": []
  },
  {
   "cell_type": "markdown",
   "metadata": {},
   "source": [
    "### 股票趋势图"
   ]
  },
  {
   "cell_type": "code",
   "execution_count": null,
   "metadata": {},
   "outputs": [],
   "source": [
    "# FB公司股票趋势图\n",
    "fig = px.line(stock, x='date', y=\"FB\")  \n",
    "\n",
    "fig.show()"
   ]
  },
  {
   "cell_type": "code",
   "execution_count": null,
   "metadata": {},
   "outputs": [],
   "source": [
    "fig = go.Figure(data=[go.Line(\n",
    "    x=stock['date'].tolist(), \n",
    "    y=stock[\"FB\"].tolist()\n",
    ")])\n",
    "\n",
    "fig.show()"
   ]
  },
  {
   "cell_type": "markdown",
   "metadata": {},
   "source": [
    "### 散点图"
   ]
  },
  {
   "cell_type": "code",
   "execution_count": null,
   "metadata": {},
   "outputs": [],
   "source": [
    "# gapminder_2002 = gapminder.query(\"year==2002\")\n",
    "\n",
    "gapminder_2002 = gapminder[gapminder[\"year\"] == 2002]\n",
    "gapminder_2002"
   ]
  },
  {
   "cell_type": "code",
   "execution_count": null,
   "metadata": {},
   "outputs": [],
   "source": [
    "px.scatter(gapminder_2002,   # 传入的数据集\n",
    "           x=\"gdpPercap\",  # 横坐标是人均GDP\n",
    "           y=\"lifeExp\",  # 纵坐标是平均寿命\n",
    "           color=\"continent\"  # 颜色取值：根据洲的值来取\n",
    "          )"
   ]
  },
  {
   "cell_type": "code",
   "execution_count": null,
   "metadata": {},
   "outputs": [],
   "source": [
    "px.scatter(gapminder_2002   # 绘图数据集\n",
    "           ,x=\"gdpPercap\"  # 横坐标\n",
    "           ,y=\"lifeExp\"  # 纵坐标\n",
    "           ,color=\"continent\"  # 区分颜色\n",
    "           ,size=\"pop\"   # 区分圆的大小\n",
    "           ,size_max=60  # 散点大小\n",
    "          )"
   ]
  },
  {
   "cell_type": "code",
   "execution_count": null,
   "metadata": {},
   "outputs": [],
   "source": [
    "# 生成随机数据\n",
    "N = 50\n",
    "random_x = np.linspace(0, 1, N)\n",
    "random_y0 = np.random.randn(N) + 10\n",
    "random_y1 = np.random.randn(N)\n",
    "random_y2 = np.random.randn(N) - 10\n",
    "\n",
    "# 准备画布\n",
    "fig = go.Figure()\n",
    "\n",
    "# 添加3组不同的数据轨迹\n",
    "fig.add_trace(go.Scatter(  #\n",
    "    x=random_x,\n",
    "    y=random_y0,\n",
    "    mode='lines', # mode模式选择\n",
    "    name='lines')) # 名字\n",
    "\n",
    "fig.add_trace(go.Scatter(\n",
    "    x=random_x,\n",
    "    y=random_y1,\n",
    "    mode='lines+markers',\n",
    "    name='lines+markers'))\n",
    "\n",
    "fig.add_trace(go.Scatter(\n",
    "    x=random_x,\n",
    "    y=random_y2,\n",
    "    mode='markers',\n",
    "    name='markers'))\n",
    "\n",
    "fig.show()"
   ]
  },
  {
   "cell_type": "markdown",
   "metadata": {},
   "source": [
    "### 面积图"
   ]
  },
  {
   "cell_type": "code",
   "execution_count": null,
   "metadata": {},
   "outputs": [],
   "source": [
    "gapminder.head()   # gdp数据集"
   ]
  },
  {
   "cell_type": "code",
   "execution_count": null,
   "metadata": {},
   "outputs": [],
   "source": [
    "# area 图\n",
    "px.area(gapminder,  \n",
    "        x=\"year\",\n",
    "        y=\"pop\",\n",
    "        color=\"continent\",\n",
    "        line_group=\"country\")"
   ]
  },
  {
   "cell_type": "code",
   "execution_count": null,
   "metadata": {
    "scrolled": false
   },
   "outputs": [],
   "source": [
    "fig = go.Figure()\n",
    "\n",
    "# 通过散点图的不同填充方式来实现的\n",
    "\n",
    "fig.add_trace(go.Scatter(x=[1, 2, 3, 4], \n",
    "                         y=[1, 2, 3, 5], \n",
    "                         fill='tozerox', # 填充方式：向着x轴填充\n",
    "                         name=\"tozerox\" # 轨迹名称\n",
    "                        )) \n",
    "\n",
    "# fig.add_trace(go.Scatter(x=[1, 2, 3, 4], \n",
    "#                          y=[1, 2, 3, 5], \n",
    "#                          fill='tonexty', # 填充方式：向着x轴填充\n",
    "#                          name=\"tonexty\" # 轨迹名称\n",
    "#                         )) \n",
    "\n",
    "\n",
    "fig.add_trace(go.Scatter(x=[1, 2, 3, 4], \n",
    "                         y=[1, 2, 3, 5], \n",
    "                         fill='tozeroy', # 填充方式：向着x轴填充\n",
    "                         name=\"tozeroy\" # 轨迹名称\n",
    "                        )) \n",
    "\n",
    "\n",
    "# fig.add_trace(go.Scatter(x=[1, 2, 3, 4], \n",
    "#                          y=[3, 5, 1, 7], \n",
    "#                          fill='tonexty',\n",
    "#                          name=\"tonexty\"\n",
    "#                         ))\n",
    "\n",
    "fig.show()"
   ]
  },
  {
   "cell_type": "markdown",
   "metadata": {},
   "source": [
    "### 饼图"
   ]
  },
  {
   "cell_type": "code",
   "execution_count": null,
   "metadata": {},
   "outputs": [],
   "source": [
    "tips.head()  # 查看前5行数据"
   ]
  },
  {
   "cell_type": "code",
   "execution_count": null,
   "metadata": {},
   "outputs": [],
   "source": [
    "# 根据day分组，统计total_bill字段的和\n",
    "\n",
    "total_bill_byday = tips.groupby(by=\"day\")[\"total_bill\"].sum().reset_index()\n",
    "total_bill_byday"
   ]
  },
  {
   "cell_type": "code",
   "execution_count": null,
   "metadata": {},
   "outputs": [],
   "source": [
    "px.pie(total_bill_byday, # 绘图数据\n",
    "       names=\"day\",  # 每个组的名字\n",
    "       values=\"total_bill\"  # 组的取值\n",
    "      )"
   ]
  },
  {
   "cell_type": "code",
   "execution_count": null,
   "metadata": {},
   "outputs": [],
   "source": [
    "fig = go.Figure(data=go.Pie(\n",
    "    labels=total_bill_byday[\"day\"].tolist(),\n",
    "    values=total_bill_byday[\"total_bill\"].tolist()\n",
    "))\n",
    "\n",
    "fig.show()"
   ]
  },
  {
   "cell_type": "markdown",
   "metadata": {},
   "source": [
    "### 旭日图"
   ]
  },
  {
   "cell_type": "code",
   "execution_count": null,
   "metadata": {},
   "outputs": [],
   "source": [
    "# 选取2002年数据\n",
    "gapminder_2002 = gapminder[gapminder[\"year\"] == 2002]\n",
    "\n",
    "px.sunburst(gapminder_2002,   # 绘图数据\n",
    "            path=['continent', 'country'],  # 指定路径：从洲到国家\n",
    "            values='pop', # 数据大小：人口数\n",
    "            color='lifeExp',  # 颜色\n",
    "            hover_data=['iso_alpha'] # 显示数据\n",
    "           )"
   ]
  },
  {
   "cell_type": "markdown",
   "metadata": {},
   "source": [
    "### 漏斗图"
   ]
  },
  {
   "cell_type": "code",
   "execution_count": null,
   "metadata": {},
   "outputs": [],
   "source": [
    "data = dict(   # 创建原始数据\n",
    "    number = [1000, 800, 400, 200, 100, 30],\n",
    "    stage = [\"UV\", \"搜索\", \"搜藏\", \"加购\", \"下单\", \"付款\"]\n",
    ")\n",
    "\n",
    "# 传入数据和数轴\n",
    "px.funnel(data, \n",
    "          x=\"number\", \n",
    "          y=\"stage\",\n",
    "          color=\"number\"  # 颜色设置\n",
    "         )"
   ]
  },
  {
   "cell_type": "markdown",
   "metadata": {},
   "source": [
    "### 联合分布图"
   ]
  },
  {
   "cell_type": "code",
   "execution_count": null,
   "metadata": {},
   "outputs": [],
   "source": [
    "px.scatter(\n",
    "    iris,\n",
    "    x=\"sepal_width\",\n",
    "    y=\"sepal_length\",\n",
    "    color=\"species\",\n",
    "    marginal_x=\"histogram\",\n",
    "    marginal_y=\"rug\")"
   ]
  },
  {
   "cell_type": "markdown",
   "metadata": {},
   "source": [
    "### 小提琴图"
   ]
  },
  {
   "cell_type": "code",
   "execution_count": null,
   "metadata": {},
   "outputs": [],
   "source": [
    "px.violin(iris,\n",
    "           y=\"sepal_width\",\n",
    "           color=\"species\")"
   ]
  },
  {
   "cell_type": "markdown",
   "metadata": {},
   "source": [
    "### 散点矩阵图"
   ]
  },
  {
   "cell_type": "code",
   "execution_count": null,
   "metadata": {},
   "outputs": [],
   "source": [
    "iris"
   ]
  },
  {
   "cell_type": "code",
   "execution_count": null,
   "metadata": {},
   "outputs": [],
   "source": [
    "px.scatter_matrix(iris,\n",
    "                  dimensions=[\"sepal_width\",\"sepal_length\",\"petal_width\",\"petal_length\"],\n",
    "                  color=\"species\")"
   ]
  },
  {
   "cell_type": "markdown",
   "metadata": {},
   "source": [
    "### 并行分类图"
   ]
  },
  {
   "cell_type": "code",
   "execution_count": null,
   "metadata": {},
   "outputs": [],
   "source": [
    "px.parallel_categories(\n",
    "    tips,  # 传入数据\n",
    "    color=\"size\",  # 颜色取值\n",
    "    color_continuous_scale=px.colors.sequential.Inferno # 颜色变化趋势\n",
    ")"
   ]
  },
  {
   "cell_type": "markdown",
   "metadata": {},
   "source": [
    "### 平行坐标图"
   ]
  },
  {
   "cell_type": "code",
   "execution_count": null,
   "metadata": {},
   "outputs": [],
   "source": [
    "px.parallel_coordinates(iris,\n",
    "                        color=\"species_id\",\n",
    "                        labels={\"species_id\":\"Species\",\n",
    "                               \"sepal_width\":\"Sepal Width\",\n",
    "                               \"sepal_length\":\"Sepal Length\",\n",
    "                               \"petal_length\":\"Petal Length\",\n",
    "                               \"petal_width\":\"Petal Width\"},\n",
    "                       color_continuous_scale=px.colors.diverging.Tealrose,\n",
    "                       color_continuous_midpoint=2)"
   ]
  },
  {
   "cell_type": "markdown",
   "metadata": {},
   "source": [
    "### 密度等值线图"
   ]
  },
  {
   "cell_type": "code",
   "execution_count": null,
   "metadata": {},
   "outputs": [],
   "source": [
    "px.density_contour(iris,\n",
    "                   x=\"sepal_width\",\n",
    "                   y=\"sepal_length\",\n",
    "                   color=\"species\",\n",
    "                   marginal_x=\"rug\",  # 需要传入边缘图形\n",
    "                   marginal_y=\"histogram\"   \n",
    "                  )"
   ]
  },
  {
   "cell_type": "markdown",
   "metadata": {},
   "source": [
    "### 密度热力图"
   ]
  },
  {
   "cell_type": "code",
   "execution_count": null,
   "metadata": {},
   "outputs": [],
   "source": [
    "px.density_heatmap(iris,\n",
    "                   x=\"sepal_width\",\n",
    "                   y=\"sepal_length\",\n",
    "                   marginal_y=\"rug\",\n",
    "                   marginal_x=\"histogram\"   # 在密度图的基础上，指定另外两种图形\n",
    "                  )"
   ]
  },
  {
   "cell_type": "markdown",
   "metadata": {},
   "source": [
    "### 直方图"
   ]
  },
  {
   "cell_type": "code",
   "execution_count": null,
   "metadata": {},
   "outputs": [],
   "source": [
    "px.histogram(\n",
    "    tips,  # 绘图数据\n",
    "    x=\"sex\",  # 指定两个数轴\n",
    "    y=\"tip\",\n",
    "    histfunc=\"avg\",  # 直方图函数：均值\n",
    "    color=\"smoker\",  # 颜色取值\n",
    "    barmode=\"group\",  # 柱状图模式\n",
    "    facet_row=\"time\",  # 横纵纵轴的字段设置\n",
    "    facet_col=\"day\",\n",
    "    category_orders={\"day\":[\"Thur\",\"Fri\",\"Sat\",\"Sun\"],  # 分类\n",
    "                     \"time\":[\"Lunch\",\"Dinner\"]})"
   ]
  },
  {
   "cell_type": "markdown",
   "metadata": {},
   "source": [
    "### 基于地图图形"
   ]
  },
  {
   "cell_type": "code",
   "execution_count": null,
   "metadata": {},
   "outputs": [],
   "source": [
    "px.choropleth(gapminder,\n",
    "              locations=\"iso_alpha\",\n",
    "              color=\"lifeExp\",\n",
    "              hover_name=\"country\",\n",
    "              animation_frame=\"year\",\n",
    "              color_continuous_scale=px.colors.sequential.Plasma,\n",
    "              projection=\"natural earth\") "
   ]
  },
  {
   "cell_type": "code",
   "execution_count": null,
   "metadata": {},
   "outputs": [],
   "source": [
    "px.line_geo(\n",
    "  gapminder_2002,\n",
    "  locations=\"iso_alpha\",\n",
    "  color=\"continent\",\n",
    "  projection=\"orthographic\")"
   ]
  },
  {
   "cell_type": "markdown",
   "metadata": {},
   "source": [
    "### 矩阵式树状图"
   ]
  },
  {
   "cell_type": "code",
   "execution_count": null,
   "metadata": {
    "code_folding": []
   },
   "outputs": [],
   "source": [
    "# 选取2002年数据\n",
    "gapminder_2002 = gapminder[gapminder[\"year\"] == 2002]\n",
    "\n",
    "px.treemap(\n",
    "    gapminder_2002, # 数据\n",
    "    path=[px.Constant('world'), 'continent', 'country'],   # 绘图路径：world---continent---country\n",
    "    values='pop',  # 数据取值\n",
    "    color='pop',   # 颜色取值\n",
    "    hover_data=['iso_alpha'])  # 显示数据：国家简称"
   ]
  },
  {
   "cell_type": "markdown",
   "metadata": {},
   "source": [
    "### 散点极坐标"
   ]
  },
  {
   "cell_type": "code",
   "execution_count": null,
   "metadata": {},
   "outputs": [],
   "source": [
    "wind = px.data.wind()\n",
    "wind.head()"
   ]
  },
  {
   "cell_type": "code",
   "execution_count": null,
   "metadata": {},
   "outputs": [],
   "source": [
    "px.scatter_polar(\n",
    "    wind,  #  数据集\n",
    "    r=\"frequency\",  # 半径\n",
    "    theta=\"direction\",   # 角度\n",
    "    color=\"strength\",  # 颜色\n",
    "    symbol=\"strength\",  # 符号\n",
    "    color_discrete_sequence=px.colors.sequential.Plasma_r)  # 颜色"
   ]
  },
  {
   "cell_type": "code",
   "execution_count": null,
   "metadata": {},
   "outputs": [],
   "source": [
    "fig = px.bar_polar(\n",
    "    wind,   # 数据集\n",
    "    r=\"frequency\",   # 半径\n",
    "    theta=\"direction\",  # 角度\n",
    "    color=\"strength\",  # 颜色\n",
    "    template=\"plotly_dark\",  # 主题\n",
    "    color_discrete_sequence=px.colors.sequential.Plasma_r)  # 颜色\n",
    "fig.show()"
   ]
  }
 ],
 "metadata": {
  "hide_input": false,
  "kernelspec": {
   "display_name": "Python 3 (ipykernel)",
   "language": "python",
   "name": "python3"
  },
  "language_info": {
   "codemirror_mode": {
    "name": "ipython",
    "version": 3
   },
   "file_extension": ".py",
   "mimetype": "text/x-python",
   "name": "python",
   "nbconvert_exporter": "python",
   "pygments_lexer": "ipython3",
   "version": "3.10.9"
  },
  "latex_envs": {
   "LaTeX_envs_menu_present": true,
   "autoclose": false,
   "autocomplete": true,
   "bibliofile": "biblio.bib",
   "cite_by": "apalike",
   "current_citInitial": 1,
   "eqLabelWithNumbers": true,
   "eqNumInitial": 1,
   "hotkeys": {
    "equation": "Ctrl-E",
    "itemize": "Ctrl-I"
   },
   "labels_anchors": false,
   "latex_user_defs": false,
   "report_style_numbering": false,
   "user_envs_cfg": false
  },
  "nbTranslate": {
   "displayLangs": [
    "*"
   ],
   "hotkey": "alt-t",
   "langInMainMenu": true,
   "sourceLang": "en",
   "targetLang": "fr",
   "useGoogleTranslate": true
  },
  "toc": {
   "base_numbering": 1,
   "nav_menu": {},
   "number_sections": true,
   "sideBar": true,
   "skip_h1_title": false,
   "title_cell": "Table of Contents",
   "title_sidebar": "Contents",
   "toc_cell": false,
   "toc_position": {},
   "toc_section_display": true,
   "toc_window_display": true
  },
  "varInspector": {
   "cols": {
    "lenName": 16,
    "lenType": 16,
    "lenVar": 40
   },
   "kernels_config": {
    "python": {
     "delete_cmd_postfix": "",
     "delete_cmd_prefix": "del ",
     "library": "var_list.py",
     "varRefreshCmd": "print(var_dic_list())"
    },
    "r": {
     "delete_cmd_postfix": ") ",
     "delete_cmd_prefix": "rm(",
     "library": "var_list.r",
     "varRefreshCmd": "cat(var_dic_list()) "
    }
   },
   "types_to_exclude": [
    "module",
    "function",
    "builtin_function_or_method",
    "instance",
    "_Feature"
   ],
   "window_display": false
  }
 },
 "nbformat": 4,
 "nbformat_minor": 2
}
